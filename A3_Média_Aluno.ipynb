{
  "nbformat": 4,
  "nbformat_minor": 0,
  "metadata": {
    "colab": {
      "provenance": [],
      "authorship_tag": "ABX9TyO+8cZk1chLnzdoiMv53RrT",
      "include_colab_link": true
    },
    "kernelspec": {
      "name": "python3",
      "display_name": "Python 3"
    },
    "language_info": {
      "name": "python"
    }
  },
  "cells": [
    {
      "cell_type": "markdown",
      "metadata": {
        "id": "view-in-github",
        "colab_type": "text"
      },
      "source": [
        "<a href=\"https://colab.research.google.com/github/rhluise2126/a3-programacao/blob/main/A3_M%C3%A9dia_Aluno.ipynb\" target=\"_parent\"><img src=\"https://colab.research.google.com/assets/colab-badge.svg\" alt=\"Open In Colab\"/></a>"
      ]
    },
    {
      "cell_type": "code",
      "execution_count": 1,
      "metadata": {
        "colab": {
          "base_uri": "https://localhost:8080/"
        },
        "id": "EwRt8o0SHkVE",
        "outputId": "b66bf095-020c-4b98-eb33-14a549456e78"
      },
      "outputs": [
        {
          "output_type": "stream",
          "name": "stdout",
          "text": [
            "Insira a avaliação 1: 1000\n",
            "Avaliação inválida. A avaliação deve estar entre 0 e 10.\n",
            "Insira a avaliação 1: 10055\n",
            "Avaliação inválida. A avaliação deve estar entre 0 e 10.\n",
            "Insira a avaliação 1: 10\n",
            "Insira a avaliação 2: 8\n",
            "Insira a avaliação 3: -1\n",
            "Avaliação inválida. A avaliação deve estar entre 0 e 10.\n",
            "Insira a avaliação 3: 7\n",
            "Média: 8.33\n",
            "Status: Aprovado\n"
          ]
        }
      ],
      "source": [
        "def adicionar_avaliacoes(estudante, numero_avaliacoes=3):\n",
        "    for i in range(1, numero_avaliacoes + 1):\n",
        "        while True:\n",
        "            try:\n",
        "                nota = float(input(f\"Insira a avaliação {i}: \"))\n",
        "                if 0 <= nota <= 10:\n",
        "                    estudante.append(nota)\n",
        "                    break\n",
        "                else:\n",
        "                    print(\"Avaliação inválida. A avaliação deve estar entre 0 e 10.\")\n",
        "            except ValueError:\n",
        "                print(\"Entrada inválida. Por favor, insira um número válido.\")\n",
        "    return estudante\n",
        "\n",
        "def calcular_media_e_status(estudante):\n",
        "    if not estudante:\n",
        "        return 0.0, \"Reprovado\"\n",
        "\n",
        "    media = sum(estudante) / len(estudante)\n",
        "    if media >= 7.0:\n",
        "        status = \"Aprovado\"\n",
        "    else:\n",
        "        status = \"Reprovado\"\n",
        "\n",
        "    return media, status\n",
        "\n",
        "avaliacoes_estudante = []\n",
        "avaliacoes_estudante = adicionar_avaliacoes(avaliacoes_estudante)\n",
        "media, status = calcular_media_e_status(avaliacoes_estudante)\n",
        "print(f\"Média: {media:.2f}\")\n",
        "print(f\"Status: {status}\")\n"
      ]
    }
  ]
}